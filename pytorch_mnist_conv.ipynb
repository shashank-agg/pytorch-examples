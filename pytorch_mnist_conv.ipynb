{
  "nbformat": 4,
  "nbformat_minor": 0,
  "metadata": {
    "colab": {
      "name": "pytorch-mnist-conv.ipynb",
      "provenance": [],
      "collapsed_sections": []
    },
    "kernelspec": {
      "name": "python3",
      "display_name": "Python 3"
    },
    "accelerator": "GPU"
  },
  "cells": [
    {
      "cell_type": "code",
      "metadata": {
        "id": "8RrW1sx91d5x"
      },
      "source": [
        "import torch\n",
        "import torchvision\n",
        "from torchvision import transforms, datasets\n",
        "import matplotlib.pyplot as plt\n"
      ],
      "execution_count": 1,
      "outputs": []
    },
    {
      "cell_type": "code",
      "metadata": {
        "id": "aDe-2xH21im-"
      },
      "source": [
        "dataset = datasets.MNIST('/data', train=True, transform=transforms.ToTensor(), download=True)\n",
        "dl = torch.utils.data.DataLoader(dataset, batch_size=64)"
      ],
      "execution_count": 15,
      "outputs": []
    },
    {
      "cell_type": "code",
      "metadata": {
        "id": "cm3AxTNo2WTa"
      },
      "source": [
        "class MNISTConvModel(torch.nn.Module):\n",
        "  def __init__(self):\n",
        "    super(MNISTConvModel, self).__init__()\n",
        "    self.layer1 = torch.nn.Conv2d(1,10,3, stride=1) # Output => [64, 10, 26,26]\n",
        "    self.layer2 = torch.nn.MaxPool2d(2,2)\n",
        "    self.layer3 = torch.nn.Linear(10*13*13, 10)\n",
        "    self.layer4 = torch.nn.Softmax(1)\n",
        "\n",
        "  def forward(self, x):\n",
        "    x = self.layer1(x)\n",
        "    x = self.layer2(x)\n",
        "\n",
        "    #Flatten\n",
        "    x = x.view(-1, 10*13*13)\n",
        "    x = self.layer3(x)\n",
        "    \n",
        "    x = self.layer4(x)\n",
        "    return x\n",
        "\n",
        "model = MNISTConvModel()\n",
        "\n",
        "opt = torch.optim.SGD(model.parameters(), 0.005)\n",
        "loss_fn = torch.nn.CrossEntropyLoss()"
      ],
      "execution_count": 3,
      "outputs": []
    },
    {
      "cell_type": "code",
      "metadata": {
        "id": "DNWzNUCNcBqB",
        "colab": {
          "base_uri": "https://localhost:8080/"
        },
        "outputId": "6f9d6f85-44a8-4276-87ef-de2e55cb328f"
      },
      "source": [
        "loss = 0\n",
        "for epoch in range(10):\n",
        "  for x,y in dl:\n",
        "    pred = model(x)\n",
        "    loss = loss_fn(pred, y)\n",
        "    opt.zero_grad()\n",
        "    loss.backward()\n",
        "    opt.step()\n",
        "  print(\"Done with epoch\", epoch)\n",
        "  print(loss)\n",
        "  \n",
        "print(\"FINAL LOSS IS: \", loss)"
      ],
      "execution_count": 8,
      "outputs": [
        {
          "output_type": "stream",
          "text": [
            "Done with epoch 0\n",
            "tensor(1.6194, grad_fn=<NllLossBackward>)\n",
            "Done with epoch 1\n",
            "tensor(1.5596, grad_fn=<NllLossBackward>)\n",
            "Done with epoch 2\n",
            "tensor(1.5297, grad_fn=<NllLossBackward>)\n",
            "Done with epoch 3\n",
            "tensor(1.5221, grad_fn=<NllLossBackward>)\n",
            "Done with epoch 4\n",
            "tensor(1.5173, grad_fn=<NllLossBackward>)\n",
            "Done with epoch 5\n",
            "tensor(1.5138, grad_fn=<NllLossBackward>)\n",
            "Done with epoch 6\n",
            "tensor(1.5110, grad_fn=<NllLossBackward>)\n",
            "Done with epoch 7\n",
            "tensor(1.5088, grad_fn=<NllLossBackward>)\n",
            "Done with epoch 8\n",
            "tensor(1.5069, grad_fn=<NllLossBackward>)\n",
            "Done with epoch 9\n",
            "tensor(1.5054, grad_fn=<NllLossBackward>)\n",
            "FINAL LOSS IS:  tensor(1.5054, grad_fn=<NllLossBackward>)\n"
          ],
          "name": "stdout"
        }
      ]
    },
    {
      "cell_type": "code",
      "metadata": {
        "colab": {
          "base_uri": "https://localhost:8080/"
        },
        "id": "HjFmzrx0q1CJ",
        "outputId": "a6fde307-7c9e-4ada-c9ed-aaa0045b7787"
      },
      "source": [
        "def accuracy():\n",
        "  matches = 0\n",
        "  with torch.no_grad():\n",
        "    for x,y in dl:\n",
        "      pred = model(x)\n",
        "      _, predictions = torch.max(pred, 1)\n",
        "      matches += ( predictions == y).sum().item()\n",
        "  acc = matches/len(dataset)\n",
        "  print(\"Accuracy is\", acc)\n",
        "  return acc\n",
        "  \n",
        "accuracy()"
      ],
      "execution_count": 10,
      "outputs": [
        {
          "output_type": "stream",
          "text": [
            "Accuracy is 0.9087333333333333\n"
          ],
          "name": "stdout"
        },
        {
          "output_type": "execute_result",
          "data": {
            "text/plain": [
              "0.9087333333333333"
            ]
          },
          "metadata": {
            "tags": []
          },
          "execution_count": 10
        }
      ]
    },
    {
      "cell_type": "code",
      "metadata": {
        "colab": {
          "base_uri": "https://localhost:8080/",
          "height": 1000
        },
        "id": "GhA1_XXkw0V_",
        "outputId": "46035611-04ff-4cf7-c480-3d7734a3daad"
      },
      "source": [
        "# Trying to understand what the conv layers are doing\n",
        "IMG = 13\n",
        "img = dataset[IMG][0]\n",
        "plt.imshow(img[0], cmap='gray')\n",
        "\n",
        "x1 = next(iter(dl))[0]\n",
        "\n",
        "def plot_grid(out):\n",
        "  print(out.shape)\n",
        "  out = out.cpu().detach().numpy()\n",
        "  n = out.shape[1]\n",
        "  f, axarr = plt.subplots(1, n, figsize=(20, 20))\n",
        "  for i in range(n):\n",
        "    axarr[i].imshow(out[IMG][i], cmap='gray')\n",
        "\n",
        "\n",
        "# Print activations from layer 1 (conv) for one sample input image\n",
        "x1 = model.layer1(x1)\n",
        "plot_grid(x1)\n",
        "\n",
        "# Print activations from layer 2 (maxpool) for one sample input image\n",
        "x1 = model.layer2(x1)\n",
        "plot_grid(x1)\n",
        "\n",
        "# Print activations from layer 3 (linear) for one sample input image\n",
        "x1 = x1.view(-1, 10*13*13)\n",
        "x1 = model.layer3(x1)\n",
        "x1 = x1.detach().numpy().reshape(64,10,1)\n",
        "plt.imshow(x1[IMG],  cmap='gray')\n",
        "# plt.imshow()\n",
        "# x1[IMG]\n",
        "# torch.reshape(x1[IMG], (1,10))"
      ],
      "execution_count": 31,
      "outputs": [
        {
          "output_type": "stream",
          "text": [
            "torch.Size([64, 10, 26, 26])\n",
            "torch.Size([64, 10, 13, 13])\n"
          ],
          "name": "stdout"
        },
        {
          "output_type": "execute_result",
          "data": {
            "text/plain": [
              "<matplotlib.image.AxesImage at 0x7fe915d2fa20>"
            ]
          },
          "metadata": {
            "tags": []
          },
          "execution_count": 31
        },
        {
          "output_type": "display_data",
          "data": {
            "image/png": "[encoded data removed]",
            "text/plain": [
              "<Figure size 432x288 with 1 Axes>"
            ]
          },
          "metadata": {
            "tags": [],
            "needs_background": "light"
          }
        },
        {
          "output_type": "display_data",
          "data": {
            "image/png": "[encoded data removed]",
            "text/plain": [
              "<Figure size 1440x1440 with 10 Axes>"
            ]
          },
          "metadata": {
            "tags": [],
            "needs_background": "light"
          }
        },
        {
          "output_type": "display_data",
          "data": {
            "image/png": "[encoded data removed]",
            "text/plain": [
              "<Figure size 1440x1440 with 10 Axes>"
            ]
          },
          "metadata": {
            "tags": [],
            "needs_background": "light"
          }
        }
      ]
    },
    {
      "cell_type": "code",
      "metadata": {
        "id": "TBp_b0VeDRTd"
      },
      "source": [
        ""
      ],
      "execution_count": null,
      "outputs": []
    }
  ]
}